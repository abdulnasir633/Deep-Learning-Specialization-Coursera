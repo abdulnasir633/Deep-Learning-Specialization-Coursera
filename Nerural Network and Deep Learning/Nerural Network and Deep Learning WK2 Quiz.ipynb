{
 "cells": [
  {
   "cell_type": "code",
   "execution_count": 24,
   "id": "fab2f789",
   "metadata": {},
   "outputs": [],
   "source": [
    "import numpy as np"
   ]
  },
  {
   "cell_type": "code",
   "execution_count": 46,
   "id": "f87f931d",
   "metadata": {},
   "outputs": [],
   "source": [
    "x=np.array([[[1],[2]],[[3],[4]]])"
   ]
  },
  {
   "cell_type": "code",
   "execution_count": 47,
   "id": "e6fb5338",
   "metadata": {},
   "outputs": [
    {
     "data": {
      "text/plain": [
       "(2, 2, 1)"
      ]
     },
     "execution_count": 47,
     "metadata": {},
     "output_type": "execute_result"
    }
   ],
   "source": [
    "x.shape"
   ]
  },
  {
   "cell_type": "code",
   "execution_count": 27,
   "id": "571d1343",
   "metadata": {},
   "outputs": [],
   "source": [
    "#a = np.random.randn(3, 4) # a.shape = (3, 4)\n",
    "#b = np.random.randn(1, 4) # b.shape = (1, 4)\n",
    "#c = a + b"
   ]
  },
  {
   "cell_type": "code",
   "execution_count": 28,
   "id": "b32a16bd",
   "metadata": {},
   "outputs": [],
   "source": [
    "#c.shape"
   ]
  },
  {
   "cell_type": "code",
   "execution_count": 29,
   "id": "9e99f20e",
   "metadata": {},
   "outputs": [],
   "source": [
    "#a = np.random.randn(4, 3) # a.shape = (4, 3)\n",
    "#b = np.random.randn(1, 3) # b.shape = (1, 3)\n",
    "#c = a * b"
   ]
  },
  {
   "cell_type": "code",
   "execution_count": 30,
   "id": "0c749d73",
   "metadata": {},
   "outputs": [],
   "source": [
    "#c.shape"
   ]
  },
  {
   "cell_type": "code",
   "execution_count": 31,
   "id": "9c69b012",
   "metadata": {},
   "outputs": [],
   "source": [
    "#a=np.array([[2,1],[1,3]])\n",
    "#a\n",
    "           "
   ]
  },
  {
   "cell_type": "code",
   "execution_count": 32,
   "id": "740ab3ef",
   "metadata": {},
   "outputs": [],
   "source": [
    "#a = np.random.randn(3, 4) # a.shape = (3, 4)\n",
    "#b = np.random.randn(4, 1) # b.shape = (1, 4)\n",
    "#a.shape=(3,4)\n",
    "#b.shape=(4,1)\n",
    "#for i in range(3):\n",
    " #   for j in range(4):\n",
    "  #      c[i][j] = a[i][j]*b[j]"
   ]
  },
  {
   "cell_type": "code",
   "execution_count": 33,
   "id": "a82e75ea",
   "metadata": {},
   "outputs": [],
   "source": [
    "#a.shape=(3,3)\n",
    "#b.shape=(3,3\n",
    "#c=a**2+b.T**2\n",
    "         "
   ]
  },
  {
   "cell_type": "code",
   "execution_count": 34,
   "id": "92ecc126",
   "metadata": {},
   "outputs": [],
   "source": [
    "#import numpy as np\n",
    "\n",
    "#yhat = 0.9\n",
    "#logistic_loss = -np.log(yhat)\n",
    "\n",
    "#print(logistic_loss)"
   ]
  },
  {
   "cell_type": "code",
   "execution_count": 35,
   "id": "02f57eb4",
   "metadata": {},
   "outputs": [],
   "source": [
    "#a.shape=(3,3)\n",
    "#b.shape=(3,3)\n",
    "#for i in range(3):\n",
    " #for j in range(3):\n",
    "  #  c[i][j] = a[i][j]*b[j]"
   ]
  },
  {
   "cell_type": "code",
   "execution_count": 36,
   "id": "97e2c04d",
   "metadata": {},
   "outputs": [],
   "source": [
    "#d.shape=(3,3)\n",
    "#e.shape=(3,3)\n",
    "#f=d**2+e.T**2\n",
    "#for i in range(3):\n",
    " #for j in range(3):\n",
    "    #c[i][j] = a[i][j]**2+b[i][j]**2"
   ]
  },
  {
   "cell_type": "code",
   "execution_count": 37,
   "id": "4071ce48",
   "metadata": {},
   "outputs": [],
   "source": [
    "x=np.array([[[1],[2]],[[3],[4]]])"
   ]
  },
  {
   "cell_type": "code",
   "execution_count": 38,
   "id": "1bbab7d4",
   "metadata": {},
   "outputs": [
    {
     "data": {
      "text/plain": [
       "(2, 2, 1)"
      ]
     },
     "execution_count": 38,
     "metadata": {},
     "output_type": "execute_result"
    }
   ],
   "source": [
    "x.shape"
   ]
  },
  {
   "cell_type": "code",
   "execution_count": 42,
   "id": "ba5e838c",
   "metadata": {},
   "outputs": [],
   "source": [
    "a = np.random.randn(3, 4) # a.shape = (3, 4)\n",
    "b = np.random.randn(1, 4) # b.shape = (1, 4)\n",
    "c = a+b"
   ]
  },
  {
   "cell_type": "code",
   "execution_count": 43,
   "id": "1a27e8b4",
   "metadata": {},
   "outputs": [
    {
     "data": {
      "text/plain": [
       "(3, 4)"
      ]
     },
     "execution_count": 43,
     "metadata": {},
     "output_type": "execute_result"
    }
   ],
   "source": [
    "c.shape"
   ]
  },
  {
   "cell_type": "code",
   "execution_count": 44,
   "id": "26481562",
   "metadata": {},
   "outputs": [],
   "source": [
    "a = np.random.randn(1, 3) # a.shape = (1, 3)\n",
    "b = np.random.randn(3, 3) # b.shape = (3, 3)\n",
    "c = a*b"
   ]
  },
  {
   "cell_type": "code",
   "execution_count": 45,
   "id": "664d9c4c",
   "metadata": {},
   "outputs": [
    {
     "data": {
      "text/plain": [
       "(3, 3)"
      ]
     },
     "execution_count": 45,
     "metadata": {},
     "output_type": "execute_result"
    }
   ],
   "source": [
    "c.shape"
   ]
  },
  {
   "cell_type": "code",
   "execution_count": 48,
   "id": "36f41ff1",
   "metadata": {},
   "outputs": [
    {
     "data": {
      "text/plain": [
       "array([[4, 1],\n",
       "       [1, 9]])"
      ]
     },
     "execution_count": 48,
     "metadata": {},
     "output_type": "execute_result"
    }
   ],
   "source": [
    "a=np.array([[2,1],[1,3]])\n",
    "a*a"
   ]
  },
  {
   "cell_type": "code",
   "execution_count": 49,
   "id": "edf3623a",
   "metadata": {},
   "outputs": [
    {
     "ename": "SyntaxError",
     "evalue": "invalid character '−' (U+2212) (3997930397.py, line 1)",
     "output_type": "error",
     "traceback": [
      "\u001b[1;36m  Input \u001b[1;32mIn [49]\u001b[1;36m\u001b[0m\n\u001b[1;33m    a=np.array([[1,1],[1,−1]])\u001b[0m\n\u001b[1;37m                         ^\u001b[0m\n\u001b[1;31mSyntaxError\u001b[0m\u001b[1;31m:\u001b[0m invalid character '−' (U+2212)\n"
     ]
    }
   ],
   "source": [
    "a=np.array([[1,1],[1,−1]])\n",
    "b=np.array([[2],[3]])\n",
    "c=a+b"
   ]
  },
  {
   "cell_type": "code",
   "execution_count": 50,
   "id": "251829a8",
   "metadata": {},
   "outputs": [
    {
     "ename": "SyntaxError",
     "evalue": "invalid character '−' (U+2212) (1623212463.py, line 1)",
     "output_type": "error",
     "traceback": [
      "\u001b[1;36m  Input \u001b[1;32mIn [50]\u001b[1;36m\u001b[0m\n\u001b[1;33m    a=np.array([[1,1][1,−1]])\u001b[0m\n\u001b[1;37m                        ^\u001b[0m\n\u001b[1;31mSyntaxError\u001b[0m\u001b[1;31m:\u001b[0m invalid character '−' (U+2212)\n"
     ]
    }
   ],
   "source": [
    "a=np.array([[1,1][1,−1]])\n",
    "b=np.array([[2],[3]])\n",
    "c=a+b"
   ]
  },
  {
   "cell_type": "code",
   "execution_count": null,
   "id": "6a854f28",
   "metadata": {},
   "outputs": [],
   "source": []
  }
 ],
 "metadata": {
  "kernelspec": {
   "display_name": "Python 3 (ipykernel)",
   "language": "python",
   "name": "python3"
  },
  "language_info": {
   "codemirror_mode": {
    "name": "ipython",
    "version": 3
   },
   "file_extension": ".py",
   "mimetype": "text/x-python",
   "name": "python",
   "nbconvert_exporter": "python",
   "pygments_lexer": "ipython3",
   "version": "3.9.12"
  }
 },
 "nbformat": 4,
 "nbformat_minor": 5
}
